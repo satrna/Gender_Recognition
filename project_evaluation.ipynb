{
  "nbformat": 4,
  "nbformat_minor": 0,
  "metadata": {
    "colab": {
      "provenance": [],
      "gpuType": "T4"
    },
    "kernelspec": {
      "name": "python3",
      "display_name": "Python 3"
    },
    "language_info": {
      "name": "python"
    },
    "accelerator": "GPU"
  },
  "cells": [
    {
      "cell_type": "markdown",
      "source": [
        "# 1. Mount GD and Set The Path\n",
        "\n",
        "\n",
        "\n",
        "\n"
      ],
      "metadata": {
        "id": "BPHIh_hYQYlL"
      }
    },
    {
      "cell_type": "code",
      "source": [
        "# mount Google Drive\n",
        "from google.colab import drive\n",
        "drive.mount('/content/gdrive')"
      ],
      "metadata": {
        "id": "vN02yqgEQodz"
      },
      "execution_count": null,
      "outputs": []
    },
    {
      "cell_type": "code",
      "source": [
        "ROOT = \"/content/gdrive/MyDrive/IndonesiaAI/Project 1 - Face Recognition/Dataset\"\n",
        "IMG_PATH = ROOT + \"//\" + \"Dataset//Images\"\n",
        "ATTR_PATH = ROOT + \"//\" + \"list_attr_celeba.csv\"\n",
        "seed = 46"
      ],
      "metadata": {
        "id": "5fpoHGealDPQ"
      },
      "execution_count": null,
      "outputs": []
    },
    {
      "cell_type": "markdown",
      "source": [
        "# 2. Setting Environment"
      ],
      "metadata": {
        "id": "ttZJMIlGl9Zc"
      }
    },
    {
      "cell_type": "code",
      "source": [
        "import os\n",
        "import pandas as pd\n",
        "import numpy as np\n",
        "\n",
        "import seaborn as sns\n",
        "import cv2\n",
        "import matplotlib.pyplot as plt\n",
        "\n",
        "import tensorflow as tf\n",
        "from tensorflow import keras"
      ],
      "metadata": {
        "id": "4pZg2Nx-mAuA"
      },
      "execution_count": null,
      "outputs": []
    },
    {
      "cell_type": "code",
      "source": [
        "device_name = tf.test.gpu_device_name()\n",
        "if device_name != '/device:GPU:0':\n",
        "  raise SystemError('GPU device not found')\n",
        "print('Found GPU at: {}'.format(device_name))"
      ],
      "metadata": {
        "id": "IT8KZ8GxyDMt"
      },
      "execution_count": null,
      "outputs": []
    },
    {
      "cell_type": "markdown",
      "source": [
        "# 3. Data Cleaning"
      ],
      "metadata": {
        "id": "v48lItwQmtZA"
      }
    },
    {
      "cell_type": "code",
      "source": [
        "attr_df = pd.read_csv(ATTR_PATH)\n",
        "attr_df.head()"
      ],
      "metadata": {
        "id": "qZhQRDHOmzeT"
      },
      "execution_count": null,
      "outputs": []
    },
    {
      "cell_type": "code",
      "source": [
        "attr_df.info()"
      ],
      "metadata": {
        "id": "F_m-wJCinJca"
      },
      "execution_count": null,
      "outputs": []
    },
    {
      "cell_type": "code",
      "source": [
        "attr_df.index"
      ],
      "metadata": {
        "id": "c7dr8uyaqEEm"
      },
      "execution_count": null,
      "outputs": []
    },
    {
      "cell_type": "code",
      "source": [
        "male_df = attr_df.loc[:, [\"image_id\", \"Male\"]]\n",
        "male_df.head()"
      ],
      "metadata": {
        "id": "TU9lN6OTpglO"
      },
      "execution_count": null,
      "outputs": []
    },
    {
      "cell_type": "code",
      "source": [
        "male_df.replace(-1, 0, inplace=True)"
      ],
      "metadata": {
        "id": "7pyXVlrIvFjx"
      },
      "execution_count": null,
      "outputs": []
    },
    {
      "cell_type": "code",
      "source": [
        "male_df.head()"
      ],
      "metadata": {
        "id": "MiwthDgkvZ3E"
      },
      "execution_count": null,
      "outputs": []
    },
    {
      "cell_type": "code",
      "source": [
        "male_df.describe()"
      ],
      "metadata": {
        "id": "53qxfMaYrzC_"
      },
      "execution_count": null,
      "outputs": []
    },
    {
      "cell_type": "code",
      "source": [
        "image_files = set(os.listdir(IMG_PATH))\n",
        "filtered_Male_df = male_df[male_df['image_id'].isin(image_files)]"
      ],
      "metadata": {
        "id": "kQNbeXcVqwOQ"
      },
      "execution_count": null,
      "outputs": []
    },
    {
      "cell_type": "code",
      "source": [
        "filtered_Male_df.head()"
      ],
      "metadata": {
        "id": "d46rxz3asr7w"
      },
      "execution_count": null,
      "outputs": []
    },
    {
      "cell_type": "code",
      "source": [
        "print(\"Filtered image :\", filtered_Male_df['Male'].count())"
      ],
      "metadata": {
        "id": "oRMGBOULtLig"
      },
      "execution_count": null,
      "outputs": []
    },
    {
      "cell_type": "code",
      "source": [
        "# Create a new DataFrame to group data by gender and get the count\n",
        "gender_count = filtered_Male_df.groupby('Male')['image_id'].count().reset_index(name='count')\n",
        "\n",
        "# Create the bar graph\n",
        "sns.barplot(x = 'Male', y = 'count', data=gender_count)\n",
        "\n",
        "# Replace the numerical values 0 and 1 with 'Female' and 'Male' in the x-axis labels\n",
        "plt.xticks([0, 1], ['Female', 'Male'])\n",
        "\n",
        "# Add a title and labels\n",
        "plt.title('Count of Males and Females')\n",
        "plt.xlabel('Gender')\n",
        "plt.ylabel('Count')\n",
        "\n",
        "# Show the graph\n",
        "plt.show()"
      ],
      "metadata": {
        "id": "DaWPYSwBsvLM"
      },
      "execution_count": null,
      "outputs": []
    },
    {
      "cell_type": "code",
      "source": [
        "# Count the number of people of each gender\n",
        "gender_count = filtered_Male_df['Male'].value_counts()\n",
        "\n",
        "# Calculate the percentage of people of each gender\n",
        "gender_percentages = (gender_count / filtered_Male_df['Male'].count()) * 100\n",
        "\n",
        "# Create a bar chart to visualize the percentages\n",
        "sns.barplot(x=gender_percentages.index, y=gender_percentages.values)\n",
        "\n",
        "# Add a title and labels to the chart\n",
        "plt.title('Percentage of People by Gender')\n",
        "plt.xlabel('Gender')\n",
        "plt.ylabel('Percentage')\n",
        "\n",
        "# Show the chart\n",
        "plt.show()"
      ],
      "metadata": {
        "id": "R2VvP9FBuTt-"
      },
      "execution_count": null,
      "outputs": []
    },
    {
      "cell_type": "code",
      "source": [
        "# Create a dictionary to store the counts and percentages\n",
        "gender_counts = {}\n",
        "\n",
        "# Count the number of females and males\n",
        "female_count = len(filtered_Male_df[filtered_Male_df['Male'] == 0])\n",
        "male_count = len(filtered_Male_df[filtered_Male_df['Male'] == 1])\n",
        "\n",
        "# Calculate the percentage of females and males\n",
        "female_percentage = (female_count / len(filtered_Male_df)) * 100\n",
        "male_percentage = (male_count / len(filtered_Male_df)) * 100\n",
        "\n",
        "# Store the counts and percentages in the dictionary\n",
        "gender_counts['Female'] = {'count': female_count, 'percentage': female_percentage}\n",
        "gender_counts['Male'] = {'count': male_count, 'percentage': male_percentage}\n",
        "\n",
        "# Print the gender counts and percentages\n",
        "for gender in gender_counts:\n",
        "    print(f\"{gender}:\")\n",
        "    print(f\"Count: {gender_counts[gender]['count']}\")\n",
        "    print(f\"Percentage: {gender_counts[gender]['percentage']:.2f}%\")"
      ],
      "metadata": {
        "id": "_2onyNxIwZvA"
      },
      "execution_count": null,
      "outputs": []
    },
    {
      "cell_type": "markdown",
      "source": [
        "# 3. Data Loading and Balancing"
      ],
      "metadata": {
        "id": "D9XgNH1FxRmx"
      }
    },
    {
      "cell_type": "code",
      "source": [
        "IMG_EXAM_1 = IMG_PATH + \"//\" + \"000065.jpg\"\n",
        "IMG_EXAM_2 = IMG_PATH + \"//\" + \"000065.jpg\""
      ],
      "metadata": {
        "id": "TpMP1qMV5dAY"
      },
      "execution_count": null,
      "outputs": []
    },
    {
      "cell_type": "code",
      "source": [
        "# example of loading an image with the Keras API\n",
        "from keras.preprocessing.image import load_img\n",
        "# load the image\n",
        "img = load_img(IMG_EXAM_1)\n",
        "# report details about the image\n",
        "print(type(img))\n",
        "print(img.format)\n",
        "print(img.mode)\n",
        "print(img.size)\n",
        "# show the image\n",
        "img.show()"
      ],
      "metadata": {
        "id": "5gXKQeuM5Y9X"
      },
      "execution_count": null,
      "outputs": []
    },
    {
      "cell_type": "code",
      "source": [
        "# example of loading an image with the Keras API\n",
        "from keras.preprocessing.image import load_img\n",
        "# load the image\n",
        "img = load_img(IMG_EXAM_2)\n",
        "# report details about the image\n",
        "print(type(img))\n",
        "print(img.format)\n",
        "print(img.mode)\n",
        "print(img.size)\n",
        "# show the image\n",
        "img.show()"
      ],
      "metadata": {
        "id": "dmIVGd1Z52P0"
      },
      "execution_count": null,
      "outputs": []
    },
    {
      "cell_type": "code",
      "source": [
        "image = tf.keras.utils.load_img(IMG_EXAM_1)\n",
        "input_arr = tf.keras.utils.img_to_array(image)\n",
        "input_arr = np.array([input_arr])  # Convert single image to a batch.\n",
        "input_arr.shape"
      ],
      "metadata": {
        "id": "5nLfhjFRxYd_"
      },
      "execution_count": null,
      "outputs": []
    },
    {
      "cell_type": "code",
      "source": [
        "from sklearn.model_selection import train_test_split\n",
        "\n",
        "data = filtered_Male_df.copy(deep=True)\n",
        "train_data, test_data = train_test_split(data, test_size=0.2, random_state=seed)"
      ],
      "metadata": {
        "id": "_MpPKtwEiuin"
      },
      "execution_count": null,
      "outputs": []
    },
    {
      "cell_type": "code",
      "source": [
        "train_data['Male'] = train_data['Male'].astype(str)\n",
        "test_data['Male'] = test_data['Male'].astype(str)"
      ],
      "metadata": {
        "id": "nVAe77Hvm6mA"
      },
      "execution_count": null,
      "outputs": []
    },
    {
      "cell_type": "code",
      "source": [
        "from tensorflow.keras.preprocessing.image import ImageDataGenerator\n",
        "\n",
        "# Define image dimensions and batch size\n",
        "image_size = (218, 178)\n",
        "batch_size = 32\n",
        "\n",
        "# Create a data generator\n",
        "datagen = ImageDataGenerator(\n",
        "    rescale=1.0 / 255,  # Normalize pixel values\n",
        "    rotation_range=20,  # Data augmentation options (adjust as needed)\n",
        "    width_shift_range=0.2,\n",
        "    height_shift_range=0.2,\n",
        "    horizontal_flip=True,\n",
        "    validation_split=0.2\n",
        ")\n",
        "\n",
        "train_generator = datagen.flow_from_dataframe(\n",
        "    dataframe=train_data,\n",
        "    directory=IMG_PATH,\n",
        "    x_col='image_id',\n",
        "    y_col='Male',\n",
        "    target_size=image_size,\n",
        "    batch_size=batch_size,\n",
        "    class_mode='binary',\n",
        "    subset='training',\n",
        "    seed=seed,\n",
        "    shuffle=True  # Shuffle the training data\n",
        ")\n",
        "\n",
        "validation_generator = datagen.flow_from_dataframe(\n",
        "    dataframe=train_data,\n",
        "    directory=IMG_PATH,\n",
        "    x_col='image_id',\n",
        "    y_col='Male',\n",
        "    target_size=image_size,\n",
        "    batch_size=batch_size,\n",
        "    class_mode='binary',\n",
        "    subset='validation',\n",
        "    seed=seed\n",
        ")\n",
        "\n",
        "test_generator = datagen.flow_from_dataframe(\n",
        "    dataframe=test_data,\n",
        "    directory=IMG_PATH,\n",
        "    x_col='image_id',\n",
        "    y_col='Male',\n",
        "    target_size=image_size,\n",
        "    batch_size=batch_size,\n",
        "    class_mode='binary',\n",
        "    shuffle=False  # Don't shuffle the test data\n",
        ")"
      ],
      "metadata": {
        "id": "C7CcD3KTlZTk"
      },
      "execution_count": null,
      "outputs": []
    },
    {
      "cell_type": "code",
      "source": [
        "import matplotlib.pyplot as plt\n",
        "\n",
        "# Retrieve a batch of images from train_generator\n",
        "x_batch, y_batch = next(train_generator)\n",
        "\n",
        "# Select one image from the batch (e.g., the first image)\n",
        "image_to_display = x_batch[0]\n",
        "\n",
        "# Display the selected image\n",
        "plt.imshow(image_to_display)\n",
        "plt.axis('off')\n",
        "plt.show()"
      ],
      "metadata": {
        "id": "iwvbmCDS7QkU"
      },
      "execution_count": null,
      "outputs": []
    },
    {
      "cell_type": "code",
      "source": [
        "class_labels = train_generator.class_indices\n",
        "print(\"Class labels in train generator:\", class_labels)"
      ],
      "metadata": {
        "id": "wB5HvMZtrWbq"
      },
      "execution_count": null,
      "outputs": []
    },
    {
      "cell_type": "markdown",
      "source": [
        "# 5. [Disclaimer] Model example"
      ],
      "metadata": {
        "id": "garFXEadrxAu"
      }
    },
    {
      "cell_type": "markdown",
      "source": [
        "## A. VGG19"
      ],
      "metadata": {
        "id": "yVUn7b_m3quE"
      }
    },
    {
      "cell_type": "code",
      "source": [
        "# import tensorflow as tf\n",
        "# from tensorflow.keras.preprocessing.image import ImageDataGenerator\n",
        "# from tensorflow.keras.applications import VGG19\n",
        "# from tensorflow.keras import layers, models\n",
        "# from tensorflow.keras.optimizers import Adam\n",
        "\n",
        "# # Load the VGG19 pre-trained model (excluding top layers)\n",
        "# base_model_vgg19 = VGG19(weights='imagenet', include_top=False, input_shape=(218, 178, 3))\n",
        "\n",
        "# # Create a custom top model for binary classification\n",
        "# model_vgg19 = models.Sequential()\n",
        "# model_vgg19.add(base_model_vgg19)\n",
        "# model_vgg19.add(layers.Flatten())\n",
        "# model_vgg19.add(layers.Dense(256, activation='relu'))\n",
        "# model_vgg19.add(layers.Dropout(0.5))\n",
        "# model_vgg19.add(layers.Dense(1, activation='sigmoid'))  # Output layer for binary classification\n",
        "\n",
        "# # Compile the model\n",
        "# model_vgg19.compile(optimizer=Adam(learning_rate=0.0001), loss='binary_crossentropy', metrics=['accuracy'])\n",
        "\n",
        "\n"
      ],
      "metadata": {
        "id": "KZNCoqeYr5ym"
      },
      "execution_count": null,
      "outputs": []
    },
    {
      "cell_type": "code",
      "source": [
        "# # Train the model\n",
        "# history1 = model_vgg19.fit(train_generator, epochs=10, validation_data=validation_generator)"
      ],
      "metadata": {
        "id": "ldmOV7vFsgV3"
      },
      "execution_count": null,
      "outputs": []
    },
    {
      "cell_type": "code",
      "source": [
        "# model.save(os.path.join(vgg19_dir, \"vgg19_model_v1.h5\"))"
      ],
      "metadata": {
        "id": "C-0lfiLRFTti"
      },
      "execution_count": null,
      "outputs": []
    },
    {
      "cell_type": "markdown",
      "source": [
        "## B. ResNet101"
      ],
      "metadata": {
        "id": "8TikkQRT3t1S"
      }
    },
    {
      "cell_type": "code",
      "source": [
        "# import tensorflow as tf\n",
        "# from tensorflow.keras.preprocessing.image import ImageDataGenerator\n",
        "# from tensorflow.keras.applications import ResNet101\n",
        "# from tensorflow.keras import layers, models\n",
        "# from tensorflow.keras.optimizers import Adam\n",
        "\n",
        "# # Load the ResNet-101 pre-trained model (excluding top layers)\n",
        "# base_model_resnet101 = ResNet101(weights='imagenet', include_top=False, input_shape=(218, 178, 3))\n",
        "\n",
        "# # Create a custom top model for binary classification\n",
        "# model_resnet101 = models.Sequential()\n",
        "# model_resnet101.add(base_model_resnet101)\n",
        "# model_resnet101.add(layers.Flatten())\n",
        "# model_resnet101.add(layers.Dense(256, activation='relu'))\n",
        "# model_resnet101.add(layers.Dropout(0.5))\n",
        "# model_resnet101.add(layers.Dense(1, activation='sigmoid'))  # Output layer for binary classification\n",
        "\n",
        "# # Compile the model\n",
        "# model_resnet101.compile(optimizer=Adam(learning_rate=0.0001), loss='binary_crossentropy', metrics=['accuracy'])\n"
      ],
      "metadata": {
        "id": "Z0zvv9SuvrIA"
      },
      "execution_count": null,
      "outputs": []
    },
    {
      "cell_type": "code",
      "source": [
        "# # Train the model\n",
        "# history2 = model_resnet101.fit(train_generator, epochs=10, validation_data=validation_generator)"
      ],
      "metadata": {
        "id": "7NLJNXXlv0fV"
      },
      "execution_count": null,
      "outputs": []
    },
    {
      "cell_type": "code",
      "source": [
        "# model.save(os.path.join(resnet101_dir, \"resnet101_model_v1.h5\"))"
      ],
      "metadata": {
        "id": "eNhazZyOFcP5"
      },
      "execution_count": null,
      "outputs": []
    },
    {
      "cell_type": "markdown",
      "source": [
        "## C. VGG16"
      ],
      "metadata": {
        "id": "eOR1z34f3xU-"
      }
    },
    {
      "cell_type": "code",
      "source": [
        "# import tensorflow as tf\n",
        "# from tensorflow.keras.preprocessing.image import ImageDataGenerator\n",
        "# from tensorflow.keras.applications import VGG16\n",
        "# from tensorflow.keras import layers, models\n",
        "# from tensorflow.keras.optimizers import Adam\n",
        "\n",
        "# # Load the VGG16 pre-trained model (excluding top layers)\n",
        "# base_model_vgg16 = VGG16(weights='imagenet', include_top=False, input_shape=(218, 178, 3))\n",
        "\n",
        "# # Create a custom top model for binary classification\n",
        "# model_vgg16 = models.Sequential()\n",
        "# model_vgg16.add(base_model_vgg16)\n",
        "# model_vgg16.add(layers.Flatten())\n",
        "# model_vgg16.add(layers.Dense(256, activation='relu'))\n",
        "# model_vgg16.add(layers.Dropout(0.5))\n",
        "# model_vgg16.add(layers.Dense(1, activation='sigmoid'))  # Output layer for binary classification\n",
        "\n",
        "# # Compile the model\n",
        "# model_vgg16.compile(optimizer=Adam(learning_rate=0.0001), loss='binary_crossentropy', metrics=['accuracy'])"
      ],
      "metadata": {
        "id": "S3Ab1HCE2erL"
      },
      "execution_count": null,
      "outputs": []
    },
    {
      "cell_type": "code",
      "source": [
        "# # Train the model\n",
        "# history3 = model_vgg16.fit(train_generator, epochs=10, validation_data=validation_generator)"
      ],
      "metadata": {
        "id": "UvDb34a73OP7"
      },
      "execution_count": null,
      "outputs": []
    },
    {
      "cell_type": "code",
      "source": [
        "# model.save(os.path.join(vgg16_dir, \"vgg16_model_v1.h5\"))"
      ],
      "metadata": {
        "id": "zmDzyou0Fih4"
      },
      "execution_count": null,
      "outputs": []
    },
    {
      "cell_type": "markdown",
      "source": [
        "## D. ResNet50"
      ],
      "metadata": {
        "id": "5voSSLye308G"
      }
    },
    {
      "cell_type": "code",
      "source": [
        "# import tensorflow as tf\n",
        "# from tensorflow.keras.preprocessing.image import ImageDataGenerator\n",
        "# from tensorflow.keras.applications import ResNet50\n",
        "# from tensorflow.keras import layers, models\n",
        "# from tensorflow.keras.optimizers import Adam\n",
        "\n",
        "# # Load the ResNet-50 pre-trained model (excluding top layers)\n",
        "# base_model_resnet50 = ResNet50(weights='imagenet', include_top=False, input_shape=(218, 178, 3))\n",
        "\n",
        "# # Create a custom top model for binary classification\n",
        "# model_resnet50 = models.Sequential()\n",
        "# model_resnet50.add(base_model_resnet50)\n",
        "# model_resnet50.add(layers.Flatten())\n",
        "# model_resnet50.add(layers.Dense(256, activation='relu'))\n",
        "# model_resnet50.add(layers.Dropout(0.5))\n",
        "# model_resnet50.add(layers.Dense(1, activation='sigmoid'))  # Output layer for binary classification\n",
        "\n",
        "# # Compile the model\n",
        "# model_resnet50.compile(optimizer=Adam(learning_rate=0.0001), loss='binary_crossentropy', metrics=['accuracy'])"
      ],
      "metadata": {
        "id": "BqjZ3H-G3UY3"
      },
      "execution_count": null,
      "outputs": []
    },
    {
      "cell_type": "code",
      "source": [
        "\n",
        "# # Train the model\n",
        "# history4 = model_resnet50.fit(train_generator, epochs=10, validation_data=validation_generator)"
      ],
      "metadata": {
        "id": "-_cT55do3bI_"
      },
      "execution_count": null,
      "outputs": []
    },
    {
      "cell_type": "code",
      "source": [
        "# model.save(os.path.join(resnet50_dir, \"resnet50_model_v1.h5\"))"
      ],
      "metadata": {
        "id": "GV6Hny0IFmme"
      },
      "execution_count": null,
      "outputs": []
    },
    {
      "cell_type": "markdown",
      "source": [
        "## E. GoogleNet"
      ],
      "metadata": {
        "id": "75vvJJJB5EOD"
      }
    },
    {
      "cell_type": "code",
      "source": [
        "# import tensorflow as tf\n",
        "# import tensorflow_hub as hub\n",
        "# from tensorflow.keras.layers import GlobalAveragePooling2D, Dense, Dropout, Flatten\n",
        "# from tensorflow.keras.optimizers import Adam\n",
        "\n",
        "# # Load the InceptionV1 model from TensorFlow Hub with ImageNet weights\n",
        "# hub_model_url = \"https://tfhub.dev/google/imagenet/inception_v1/classification/4\"\n",
        "# base_model_googleNet = hub.KerasLayer(hub_model_url, trainable=False)\n",
        "\n",
        "# # Create a custom top model for binary classification\n",
        "# model_googleNet = tf.keras.Sequential([\n",
        "#     base_model_googleNet,\n",
        "#     Flatten(),\n",
        "#     Dense(256, activation='relu'),\n",
        "#     Dropout(0.5),\n",
        "#     Dense(1, activation='sigmoid')  # Output layer for binary classification\n",
        "# ])\n",
        "\n",
        "# # Compile the model\n",
        "# model_googleNet.compile(optimizer=Adam(learning_rate=0.0001), loss='binary_crossentropy', metrics=['accuracy'])"
      ],
      "metadata": {
        "id": "yiTJfkNm5GZm"
      },
      "execution_count": null,
      "outputs": []
    },
    {
      "cell_type": "code",
      "source": [
        "# # Train the model\n",
        "# history5 = model_googleNet.fit(train_generator, epochs=10, validation_data=validation_generator)"
      ],
      "metadata": {
        "id": "D9q5AYqH5Kn8"
      },
      "execution_count": null,
      "outputs": []
    },
    {
      "cell_type": "code",
      "source": [
        "# model.save(os.path.join(googlenet_dir, \"googlenet_model_v1.h5\"))"
      ],
      "metadata": {
        "id": "4f-T03SDFtgY"
      },
      "execution_count": null,
      "outputs": []
    },
    {
      "cell_type": "markdown",
      "source": [
        "# 6. Plot the Training"
      ],
      "metadata": {
        "id": "5uYpeqK535IL"
      }
    },
    {
      "cell_type": "code",
      "source": [
        "# # Define a function to plot training history\n",
        "# def plot_training_history(history):\n",
        "#     plt.figure(figsize=(12, 4))\n",
        "\n",
        "#     plt.subplot(1, 2, 1)\n",
        "#     plt.plot(history.history['loss'], label='Training Loss')\n",
        "#     plt.plot(history.history['val_loss'], label='Validation Loss')\n",
        "#     plt.title('Training and Validation Loss')\n",
        "#     plt.xlabel('Epoch')\n",
        "#     plt.ylabel('Loss')\n",
        "#     plt.legend()\n",
        "\n",
        "#     plt.subplot(1, 2, 2)\n",
        "#     plt.plot(history.history['accuracy'], label='Training Accuracy')\n",
        "#     plt.plot(history.history['val_accuracy'], label='Validation Accuracy')\n",
        "#     plt.title('Training and Validation Accuracy')\n",
        "#     plt.xlabel('Epoch')\n",
        "#     plt.ylabel('Accuracy')\n",
        "#     plt.legend()\n",
        "\n",
        "#     plt.show()"
      ],
      "metadata": {
        "id": "Ht1pWcWb9F5n"
      },
      "execution_count": null,
      "outputs": []
    },
    {
      "cell_type": "code",
      "source": [
        "# # VGG19\n",
        "# plot_training_history(history1)"
      ],
      "metadata": {
        "id": "GMl1Y8bPCkP9"
      },
      "execution_count": null,
      "outputs": []
    },
    {
      "cell_type": "code",
      "source": [
        "# # ResNet101\n",
        "# plot_training_history(history2)"
      ],
      "metadata": {
        "id": "Wa3Kjj1eCssc"
      },
      "execution_count": null,
      "outputs": []
    },
    {
      "cell_type": "code",
      "source": [
        "# # VGG16\n",
        "# plot_training_history(history3)"
      ],
      "metadata": {
        "id": "P60wrfpQCtPF"
      },
      "execution_count": null,
      "outputs": []
    },
    {
      "cell_type": "code",
      "source": [
        "# # ResNet50\n",
        "# plot_training_history(history4)"
      ],
      "metadata": {
        "id": "dHG0RKBeCtin"
      },
      "execution_count": null,
      "outputs": []
    },
    {
      "cell_type": "code",
      "source": [
        "# # GoogleNet\n",
        "# plot_training_history(history5)"
      ],
      "metadata": {
        "id": "yGRWHm6uCt3t"
      },
      "execution_count": null,
      "outputs": []
    },
    {
      "cell_type": "markdown",
      "source": [
        "# 7. Save The Model"
      ],
      "metadata": {
        "id": "dzMT65UcC8TF"
      }
    },
    {
      "cell_type": "code",
      "source": [
        "import os\n",
        "\n",
        "# Define the root directory\n",
        "save_path = \"/content/gdrive/MyDrive/IndonesiaAI/Project 1 - Face Recognition/save_model\""
      ],
      "metadata": {
        "id": "xDvnvtMAE0Ke"
      },
      "execution_count": null,
      "outputs": []
    },
    {
      "cell_type": "code",
      "source": [
        "# # Save the trained VGG19 model\n",
        "# model_vgg19.save(os.path.join(save_path, \"vgg19_model.h5\"))\n",
        "\n",
        "# # Save the trained ResNet101 model\n",
        "# model_resnet101.save(os.path.join(save_path, \"resnet101_model.h5\"))\n",
        "\n",
        "# # Save the trained VGG16 model\n",
        "# model_vgg16.save(os.path.join(save_path, \"vgg16_model.h5\"))\n",
        "\n",
        "# # Save the trained ResNet50 model\n",
        "# model_resnet50.save(os.path.join(save_path, \"resnet50_model.h5\"))\n",
        "\n",
        "# # Save the trained GoogleNet/InceptionV1 model\n",
        "# model_googleNet.save(os.path.join(save_path, \"googlenet_model.h5\"))\n",
        "\n"
      ],
      "metadata": {
        "id": "JLwHPy74C_Tq"
      },
      "execution_count": null,
      "outputs": []
    },
    {
      "cell_type": "markdown",
      "source": [
        "# 8. Model Evalutaion"
      ],
      "metadata": {
        "id": "ZchKiSg7F3Sw"
      }
    },
    {
      "cell_type": "code",
      "source": [
        "# Load The model\n",
        "\n",
        "resnet50 = tf.keras.models.load_model(os.path.join(save_path, \"resnet50_model.h5\"))\n",
        "vgg19 = tf.keras.models.load_model(os.path.join(save_path, \"vgg19_model.h5\"))\n",
        "vgg16 = tf.keras.models.load_model(os.path.join(save_path, \"vgg16_model.h5\"))\n",
        "resnet101 = tf.keras.models.load_model(os.path.join(save_path, \"resnet101_model.h5\"))"
      ],
      "metadata": {
        "id": "OipVpZ04bUeN"
      },
      "execution_count": null,
      "outputs": []
    },
    {
      "cell_type": "code",
      "source": [
        "loss, acc = resnet50.evaluate(test_generator, verbose=2)\n",
        "print('Restored model, accuracy: {:5.2f}%'.format(100 * acc))"
      ],
      "metadata": {
        "id": "Y6liTbqsb2Fe"
      },
      "execution_count": null,
      "outputs": []
    },
    {
      "cell_type": "code",
      "source": [
        "def evaluate_model(model, test_generator):\n",
        "    # Evaluate the model\n",
        "    loss, accuracy = model.evaluate(test_generator, verbose=2)\n",
        "    return accuracy\n",
        "\n",
        "# Example of usage for each model\n",
        "resnet50_accuracy = evaluate_model(resnet50, test_generator)\n",
        "vgg19_accuracy = evaluate_model(vgg19, test_generator)\n",
        "vgg16_accuracy = evaluate_model(vgg16, test_generator)\n",
        "resnet101_accuracy = evaluate_model(resnet101, test_generator)\n",
        "# googlenet_accuracy = evaluate_model(model_googleNet, test_generator)\n",
        "\n",
        "# Print the accuracies\n",
        "print(f'ResNet50 - Accuracy: {100 * resnet50_accuracy:.2f}%')\n",
        "print(f'VGG19 - Accuracy: {100 * vgg19_accuracy:.2f}%')\n",
        "print(f'VGG16 - Accuracy: {100 * vgg16_accuracy:.2f}%')\n",
        "print(f'ResNet101 - Accuracy: {100 * resnet101_accuracy:.2f}%')\n",
        "# print(f'GoogLeNet - Accuracy: {100 * googlenet_accuracy:.2f}%') # Not permanent, cause model can't be loaded"
      ],
      "metadata": {
        "id": "KMOyZt-UdUbo"
      },
      "execution_count": null,
      "outputs": []
    },
    {
      "cell_type": "code",
      "source": [
        "import seaborn as sns\n",
        "import matplotlib.pyplot as plt\n",
        "\n",
        "# Define the model names and their corresponding test accuracies\n",
        "model_names = [\"ResNet50\", \"VGG19\", \"VGG16\", \"ResNet101\"]\n",
        "test_accuracies = [resnet50_accuracy, vgg19_accuracy, vgg16_accuracy, resnet101_accuracy]\n",
        "\n",
        "# Create a dataframe for the data\n",
        "import pandas as pd\n",
        "data = pd.DataFrame({'Model': model_names, 'Test Accuracy': test_accuracies})\n",
        "\n",
        "# Sort the data by test accuracy in descending order\n",
        "data = data.sort_values(by='Test Accuracy', ascending=True)\n",
        "\n",
        "# Create a bar plot to compare test accuracies\n",
        "plt.figure(figsize=(10, 6))\n",
        "plot = sns.barplot(x='Model', y='Test Accuracy', data=data, palette='viridis')\n",
        "plt.title('Test Accuracy Comparison of Different Models')\n",
        "plt.ylim(0, 1.1)  # Set the y-axis limit to represent accuracy in [0, 1]\n",
        "plt.xlabel('Model')\n",
        "plt.ylabel('Test Accuracy')\n",
        "plt.xticks(rotation=45)\n",
        "\n",
        "# Annotate the bars with accuracy values\n",
        "for index, row in data.iterrows():\n",
        "    plot.text(index, row['Test Accuracy'], f'{100 * row[\"Test Accuracy\"]:.2f}%', ha='center', va='bottom')\n",
        "\n",
        "plt.show()\n"
      ],
      "metadata": {
        "id": "2Y7C3c_5gHOf"
      },
      "execution_count": null,
      "outputs": []
    },
    {
      "cell_type": "markdown",
      "source": [
        "# Try the evaluation for one model (VGG19)"
      ],
      "metadata": {
        "id": "aZneHKP7tted"
      }
    },
    {
      "cell_type": "code",
      "source": [
        "print(type(test_generator.classes.count(0)))\n",
        "print(f\"0 : {test_generator.classes.count(0)}\")\n",
        "print(f\"1 : {test_generator.classes.count(1)}\")"
      ],
      "metadata": {
        "id": "N1OG5mspt0vD"
      },
      "execution_count": null,
      "outputs": []
    },
    {
      "cell_type": "code",
      "source": [
        "print(type(test_generator.classes.count(0)))\n",
        "print(f\"0 : {train_generator.classes.count(0)}\")\n",
        "print(f\"1 : {train_generator.classes.count(1)}\")"
      ],
      "metadata": {
        "id": "rcaH7ZUzxSY3"
      },
      "execution_count": null,
      "outputs": []
    },
    {
      "cell_type": "code",
      "source": [
        "print(type(test_generator.classes.count(0)))\n",
        "print(f\"0 : {validation_generator.classes.count(0)}\")\n",
        "print(f\"1 : {validation_generator.classes.count(1)}\")"
      ],
      "metadata": {
        "id": "IaWKYPvFxYTO"
      },
      "execution_count": null,
      "outputs": []
    },
    {
      "cell_type": "code",
      "source": [
        "# Define the number of images you want to retrieve\n",
        "num_images_to_retrieve = 9\n",
        "\n",
        "# Create a list to store the retrieved images\n",
        "retrieved_images = []\n",
        "\n",
        "# Loop to retrieve images\n",
        "for _ in range(num_images_to_retrieve):\n",
        "    try:\n",
        "        x_batch, _ = next(test_generator)\n",
        "        retrieved_images.append(x_batch[3])  # Assuming you want the first image from each batch\n",
        "    except StopIteration:\n",
        "        break"
      ],
      "metadata": {
        "id": "XZUjKIaIwBBX"
      },
      "execution_count": null,
      "outputs": []
    },
    {
      "cell_type": "code",
      "source": [
        "# Make predictions for the retrieved images\n",
        "predictions = vgg19.predict(np.array(retrieved_images))\n",
        "\n",
        "# Create a subplot grid to display the images with predictions\n",
        "fig, axs = plt.subplots(3, 3, figsize=(10, 10))\n",
        "\n",
        "# Loop to display images with binary classification predictions\n",
        "for i in range(9):\n",
        "    ax = axs[i // 3, i % 3]\n",
        "\n",
        "    # Display the image\n",
        "    ax.imshow(retrieved_images[i])\n",
        "    ax.axis('off')\n",
        "\n",
        "    # Display the binary classification prediction (0 or 1)\n",
        "    predicted_class = \"Male\" if predictions[i] >= 0.5 else \"Famale\"\n",
        "    ax.set_title(f\"Predicted: {predicted_class}\")\n",
        "\n",
        "plt.show()"
      ],
      "metadata": {
        "id": "glk4DYpj3kMH"
      },
      "execution_count": null,
      "outputs": []
    },
    {
      "cell_type": "code",
      "source": [
        "from sklearn.metrics import confusion_matrix\n",
        "import itertools\n",
        "\n",
        "# Make predictions for the test data using the test generator\n",
        "predictions = vgg19.predict(test_generator)\n",
        "\n",
        "# Calculate true labels (ground truth) for the test data\n",
        "true_labels = test_generator.classes  # Assumes the generator has class labels\n",
        "\n",
        "# Calculate the confusion matrix\n",
        "confusion = confusion_matrix(true_labels, np.round(predictions))\n",
        "\n",
        "# Define class labels (replace with your specific class labels)\n",
        "class_labels = ['Female', 'Male']\n",
        "\n",
        "# Create and plot the confusion matrix\n",
        "plt.figure(figsize=(8, 6))\n",
        "plt.imshow(confusion, interpolation='nearest', cmap=plt.get_cmap('Blues'))\n",
        "plt.title('Confusion Matrix : VGG19')\n",
        "plt.colorbar()\n",
        "\n",
        "tick_marks = np.arange(len(class_labels))\n",
        "plt.xticks(tick_marks, class_labels, rotation=45)\n",
        "plt.yticks(tick_marks, class_labels)\n",
        "\n",
        "thresh = confusion.max() / 2.0\n",
        "for i, j in itertools.product(range(confusion.shape[0]), range(confusion.shape[1])):\n",
        "    plt.text(j, i, confusion[i, j], horizontalalignment=\"center\", color=\"white\" if confusion[i, j] > thresh else \"black\")\n",
        "\n",
        "plt.ylabel('True')\n",
        "plt.xlabel('Predicted')\n",
        "plt.tight_layout()\n",
        "plt.show()"
      ],
      "metadata": {
        "id": "LTakQUFC4KGo"
      },
      "execution_count": null,
      "outputs": []
    },
    {
      "cell_type": "code",
      "source": [
        "from sklearn.metrics import confusion_matrix\n",
        "import itertools\n",
        "\n",
        "# Make predictions for the test data using the test generator\n",
        "predictions = resnet101.predict(test_generator)\n",
        "\n",
        "# Calculate true labels (ground truth) for the test data\n",
        "true_labels = test_generator.classes  # Assumes the generator has class labels\n",
        "\n",
        "# Calculate the confusion matrix\n",
        "confusion = confusion_matrix(true_labels, np.round(predictions))\n",
        "\n",
        "# Define class labels (replace with your specific class labels)\n",
        "class_labels = ['Female', 'Male']\n",
        "\n",
        "# Create and plot the confusion matrix\n",
        "plt.figure(figsize=(8, 6))\n",
        "plt.imshow(confusion, interpolation='nearest', cmap=plt.get_cmap('Blues'))\n",
        "plt.title('Confusion Matrix : ResNet101')\n",
        "plt.colorbar()\n",
        "\n",
        "tick_marks = np.arange(len(class_labels))\n",
        "plt.xticks(tick_marks, class_labels, rotation=45)\n",
        "plt.yticks(tick_marks, class_labels)\n",
        "\n",
        "thresh = confusion.max() / 2.0\n",
        "for i, j in itertools.product(range(confusion.shape[0]), range(confusion.shape[1])):\n",
        "    plt.text(j, i, confusion[i, j], horizontalalignment=\"center\", color=\"white\" if confusion[i, j] > thresh else \"black\")\n",
        "\n",
        "plt.ylabel('True')\n",
        "plt.xlabel('Predicted')\n",
        "plt.tight_layout()\n",
        "plt.show()"
      ],
      "metadata": {
        "id": "FpE_duBV4z32"
      },
      "execution_count": null,
      "outputs": []
    },
    {
      "cell_type": "code",
      "source": [
        "from sklearn.metrics import confusion_matrix\n",
        "import itertools\n",
        "\n",
        "# Make predictions for the test data using the test generator\n",
        "predictions = vgg16.predict(test_generator)\n",
        "\n",
        "# Calculate true labels (ground truth) for the test data\n",
        "true_labels = test_generator.classes  # Assumes the generator has class labels\n",
        "\n",
        "# Calculate the confusion matrix\n",
        "confusion = confusion_matrix(true_labels, np.round(predictions))\n",
        "\n",
        "# Define class labels (replace with your specific class labels)\n",
        "class_labels = ['Female', 'Male']\n",
        "\n",
        "# Create and plot the confusion matrix\n",
        "plt.figure(figsize=(8, 6))\n",
        "plt.imshow(confusion, interpolation='nearest', cmap=plt.get_cmap('Blues'))\n",
        "plt.title('Confusion Matrix : VGG16')\n",
        "plt.colorbar()\n",
        "\n",
        "tick_marks = np.arange(len(class_labels))\n",
        "plt.xticks(tick_marks, class_labels, rotation=45)\n",
        "plt.yticks(tick_marks, class_labels)\n",
        "\n",
        "thresh = confusion.max() / 2.0\n",
        "for i, j in itertools.product(range(confusion.shape[0]), range(confusion.shape[1])):\n",
        "    plt.text(j, i, confusion[i, j], horizontalalignment=\"center\", color=\"white\" if confusion[i, j] > thresh else \"black\")\n",
        "\n",
        "plt.ylabel('True')\n",
        "plt.xlabel('Predicted')\n",
        "plt.tight_layout()\n",
        "plt.show()"
      ],
      "metadata": {
        "id": "w0gpoJWU6KQW"
      },
      "execution_count": null,
      "outputs": []
    },
    {
      "cell_type": "code",
      "source": [
        "from sklearn.metrics import confusion_matrix\n",
        "import itertools\n",
        "\n",
        "# Make predictions for the test data using the test generator\n",
        "predictions = resnet50.predict(test_generator)\n",
        "\n",
        "# Calculate true labels (ground truth) for the test data\n",
        "true_labels = test_generator.classes  # Assumes the generator has class labels\n",
        "\n",
        "# Calculate the confusion matrix\n",
        "confusion = confusion_matrix(true_labels, np.round(predictions))\n",
        "\n",
        "# Define class labels (replace with your specific class labels)\n",
        "class_labels = ['Female', 'Male']\n",
        "\n",
        "# Create and plot the confusion matrix\n",
        "plt.figure(figsize=(8, 6))\n",
        "plt.imshow(confusion, interpolation='nearest', cmap=plt.get_cmap('Blues'))\n",
        "plt.title('Confusion Matrix : ResNet50')\n",
        "plt.colorbar()\n",
        "\n",
        "tick_marks = np.arange(len(class_labels))\n",
        "plt.xticks(tick_marks, class_labels, rotation=45)\n",
        "plt.yticks(tick_marks, class_labels)\n",
        "\n",
        "thresh = confusion.max() / 2.0\n",
        "for i, j in itertools.product(range(confusion.shape[0]), range(confusion.shape[1])):\n",
        "    plt.text(j, i, confusion[i, j], horizontalalignment=\"center\", color=\"white\" if confusion[i, j] > thresh else \"black\")\n",
        "\n",
        "plt.ylabel('True')\n",
        "plt.xlabel('Predicted')\n",
        "plt.tight_layout()\n",
        "plt.show()"
      ],
      "metadata": {
        "id": "ZEkZjd5X6L1o"
      },
      "execution_count": null,
      "outputs": []
    },
    {
      "cell_type": "markdown",
      "source": [
        "# Experiment"
      ],
      "metadata": {
        "id": "snlTwCkp-chY"
      }
    },
    {
      "cell_type": "code",
      "source": [
        "X, y = next(test_generator)"
      ],
      "metadata": {
        "id": "CciuGXyE-ebg"
      },
      "execution_count": null,
      "outputs": []
    },
    {
      "cell_type": "code",
      "source": [
        "print(X[25].shape)\n",
        "print(y[25])"
      ],
      "metadata": {
        "id": "RvmBIPu_-jC-"
      },
      "execution_count": null,
      "outputs": []
    },
    {
      "cell_type": "code",
      "source": [
        "img_m = X[4]"
      ],
      "metadata": {
        "id": "iFVFYDuaBLYP"
      },
      "execution_count": null,
      "outputs": []
    },
    {
      "cell_type": "code",
      "source": [
        "img_f = X[25]"
      ],
      "metadata": {
        "id": "AM-q5QcR_7X7"
      },
      "execution_count": null,
      "outputs": []
    },
    {
      "cell_type": "code",
      "source": [
        "plt.imshow(img_f)\n",
        "plt.axis('off')  # Hide axis labels and ticks\n",
        "plt.show()"
      ],
      "metadata": {
        "id": "0MVgh7BqAHEp"
      },
      "execution_count": null,
      "outputs": []
    },
    {
      "cell_type": "code",
      "source": [
        "image_f = np.expand_dims(img_f, axis=0)\n",
        "result = vgg19.predict(image_f)"
      ],
      "metadata": {
        "id": "ktcNjsIYAKtN"
      },
      "execution_count": null,
      "outputs": []
    },
    {
      "cell_type": "code",
      "source": [
        "print(result[0])"
      ],
      "metadata": {
        "id": "LpS6JJJZAt7P"
      },
      "execution_count": null,
      "outputs": []
    },
    {
      "cell_type": "code",
      "source": [
        "probability_male = result  # Probability of being \"Male\"\n",
        "probability_female = 1 - result  # Probability of being \"Female\""
      ],
      "metadata": {
        "id": "KulhrinWDk6g"
      },
      "execution_count": null,
      "outputs": []
    },
    {
      "cell_type": "code",
      "source": [
        "print(\"Probability of being 'Male':\", probability_male)\n",
        "print(\"Probability of being 'Female':\", probability_female)"
      ],
      "metadata": {
        "id": "tixW2KPEDqY_"
      },
      "execution_count": null,
      "outputs": []
    },
    {
      "cell_type": "code",
      "source": [
        "plt.imshow(img_m)\n",
        "plt.axis('off')  # Hide axis labels and ticks\n",
        "plt.show()"
      ],
      "metadata": {
        "id": "nw5AmumUBiA7"
      },
      "execution_count": null,
      "outputs": []
    },
    {
      "cell_type": "code",
      "source": [
        "image_m = np.expand_dims(img_m, axis=0)\n",
        "result = vgg19.predict(image_m)"
      ],
      "metadata": {
        "id": "WLCBVa7ZBktf"
      },
      "execution_count": null,
      "outputs": []
    },
    {
      "cell_type": "code",
      "source": [
        "result[0]"
      ],
      "metadata": {
        "id": "v3mgzgB6BlF_"
      },
      "execution_count": null,
      "outputs": []
    },
    {
      "cell_type": "code",
      "source": [
        "probability_male = result  # Probability of being \"Male\"\n",
        "probability_female = 1 - result  # Probability of being \"Female\""
      ],
      "metadata": {
        "id": "guSYxeHgDTfz"
      },
      "execution_count": null,
      "outputs": []
    },
    {
      "cell_type": "code",
      "source": [
        "print(\"Probability of being 'Male':\", probability_male)\n",
        "print(\"Probability of being 'Female':\", probability_female)"
      ],
      "metadata": {
        "id": "l3zduQ4LDYEi"
      },
      "execution_count": null,
      "outputs": []
    }
  ]
}
